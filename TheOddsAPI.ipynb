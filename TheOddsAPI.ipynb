{
 "cells": [
  {
   "cell_type": "code",
   "execution_count": 48,
   "metadata": {},
   "outputs": [],
   "source": [
    "# import urllib library\n",
    "from urllib.request import urlopen\n",
    "  \n",
    "# import json\n",
    "import json\n",
    "# store the URL in url as \n",
    "# parameter for urlopen\n",
    "apiKey = 'a029b55527c565b3eb67eb323dfd0e04' \n",
    "url = \"https://api.the-odds-api.com/v4/sports?apiKey=\" + apiKey\n",
    "  \n",
    "# store the response of URL\n",
    "response = urlopen(url)\n",
    "  \n",
    "# storing the JSON response \n",
    "# from url in data\n",
    "data_json = json.loads(response.read())\n",
    "  \n",
    "# print the json response\n",
    "#print(data_json)"
   ]
  },
  {
   "cell_type": "code",
   "execution_count": 60,
   "metadata": {},
   "outputs": [
    {
     "name": "stdout",
     "output_type": "stream",
     "text": [
      "americanfootball_ncaaf\n",
      "americanfootball_nfl\n",
      "americanfootball_nfl_super_bowl_winner\n",
      "aussierules_afl\n",
      "baseball_mlb_world_series_winner\n",
      "basketball_euroleague\n",
      "basketball_nba\n",
      "basketball_nba_championship_winner\n",
      "basketball_ncaab\n",
      "cricket_big_bash\n",
      "cricket_international_t20\n",
      "cricket_test_match\n",
      "golf_masters_tournament_winner\n",
      "golf_pga_championship_winner\n",
      "golf_the_open_championship_winner\n",
      "golf_us_open_winner\n",
      "icehockey_nhl\n",
      "icehockey_nhl_championship_winner\n",
      "icehockey_sweden_allsvenskan\n",
      "icehockey_sweden_hockey_league\n",
      "mma_mixed_martial_arts\n",
      "rugbyleague_nrl\n",
      "soccer_australia_aleague\n",
      "soccer_belgium_first_div\n",
      "soccer_denmark_superliga\n",
      "soccer_efl_champ\n",
      "soccer_england_efl_cup\n",
      "soccer_england_league1\n",
      "soccer_england_league2\n",
      "soccer_epl\n",
      "soccer_fa_cup\n",
      "soccer_france_ligue_one\n",
      "soccer_germany_bundesliga\n",
      "soccer_germany_bundesliga2\n",
      "soccer_italy_serie_a\n",
      "soccer_italy_serie_b\n",
      "soccer_mexico_ligamx\n",
      "soccer_netherlands_eredivisie\n",
      "soccer_norway_eliteserien\n",
      "soccer_poland_ekstraklasa\n",
      "soccer_portugal_primeira_liga\n",
      "soccer_spain_la_liga\n",
      "soccer_spain_segunda_division\n",
      "soccer_spl\n",
      "soccer_sweden_allsvenskan\n",
      "soccer_sweden_superettan\n",
      "soccer_switzerland_superleague\n",
      "soccer_turkey_super_league\n",
      "soccer_uefa_champs_league\n",
      "soccer_uefa_europa_conference_league\n",
      "soccer_uefa_europa_league\n"
     ]
    }
   ],
   "source": [
    "#list all sports\n",
    "for sport in data_json:\n",
    "    print(sport['key'])"
   ]
  },
  {
   "cell_type": "code",
   "execution_count": 65,
   "metadata": {},
   "outputs": [
    {
     "data": {
      "application/vnd.jupyter.widget-view+json": {
       "model_id": "94fb9d8a88404ff69e57c905d9127dec",
       "version_major": 2,
       "version_minor": 0
      },
      "text/plain": [
       "Button(description='Click Me!', style=ButtonStyle())"
      ]
     },
     "metadata": {},
     "output_type": "display_data"
    }
   ],
   "source": [
    "import ipywidgets as widgets\n",
    "from IPython.display import display\n",
    "\n",
    "def on_button_clicked(b):\n",
    "    print(\"Button clicked.\")\n",
    "\n",
    "button = widgets.Button(description=\"Click Me!\")\n",
    "display(button)\n",
    "\n",
    "button.on_click(on_button_clicked)"
   ]
  },
  {
   "cell_type": "code",
   "execution_count": 66,
   "metadata": {},
   "outputs": [
    {
     "data": {
      "application/vnd.jupyter.widget-view+json": {
       "model_id": "def4b0b491ad422488f52436ae0885d7",
       "version_major": 2,
       "version_minor": 0
      },
      "text/plain": [
       "IntSlider(value=0)"
      ]
     },
     "metadata": {},
     "output_type": "display_data"
    },
    {
     "data": {
      "application/vnd.jupyter.widget-view+json": {
       "model_id": "def4b0b491ad422488f52436ae0885d7",
       "version_major": 2,
       "version_minor": 0
      },
      "text/plain": [
       "IntSlider(value=0)"
      ]
     },
     "metadata": {},
     "output_type": "display_data"
    }
   ],
   "source": [
    "from ipywidgets import *\n",
    "from IPython.display import display\n",
    "w = IntSlider()\n",
    "display(w, w)"
   ]
  },
  {
   "cell_type": "code",
   "execution_count": 50,
   "metadata": {},
   "outputs": [],
   "source": [
    "#Choose a specific sport\n",
    "key = 'soccer_epl'\n",
    "\n",
    "\n",
    "url = \"https://api.the-odds-api.com/v4/sports/\" + key + \"/odds/?regions=eu&oddsFormat=decimal&apiKey=\" + apiKey\n",
    "  \n",
    "# store the response of URL\n",
    "response = urlopen(url)\n",
    "  \n",
    "# storing the JSON response \n",
    "# from url in data\n",
    "data_json_sport = json.loads(response.read())\n",
    "  \n",
    "# print the json response\n",
    "#print(data_json_sport)"
   ]
  },
  {
   "cell_type": "code",
   "execution_count": 58,
   "metadata": {},
   "outputs": [
    {
     "data": {
      "text/plain": [
       "{'id': '0a2612d23753bb4f67238391f8c796c5',\n",
       " 'sport_key': 'soccer_epl',\n",
       " 'sport_title': 'EPL',\n",
       " 'commence_time': '2023-01-03T19:45:00Z',\n",
       " 'home_team': 'Arsenal',\n",
       " 'away_team': 'Newcastle United',\n",
       " 'bookmakers': [{'key': 'betclic',\n",
       "   'title': 'Betclic',\n",
       "   'last_update': '2023-01-02T20:50:35Z',\n",
       "   'markets': [{'key': 'h2h',\n",
       "     'last_update': '2023-01-02T20:50:35Z',\n",
       "     'outcomes': [{'name': 'Arsenal', 'price': 1.8},\n",
       "      {'name': 'Newcastle United', 'price': 4.35},\n",
       "      {'name': 'Draw', 'price': 3.9}]}]},\n",
       "  {'key': 'mybookieag',\n",
       "   'title': 'MyBookie.ag',\n",
       "   'last_update': '2023-01-02T20:49:30Z',\n",
       "   'markets': [{'key': 'h2h',\n",
       "     'last_update': '2023-01-02T20:49:30Z',\n",
       "     'outcomes': [{'name': 'Arsenal', 'price': 1.8},\n",
       "      {'name': 'Newcastle United', 'price': 4.3},\n",
       "      {'name': 'Draw', 'price': 3.85}]}]},\n",
       "  {'key': 'onexbet',\n",
       "   'title': '1xBet',\n",
       "   'last_update': '2023-01-02T20:50:10Z',\n",
       "   'markets': [{'key': 'h2h',\n",
       "     'last_update': '2023-01-02T20:50:10Z',\n",
       "     'outcomes': [{'name': 'Arsenal', 'price': 1.8},\n",
       "      {'name': 'Newcastle United', 'price': 4.78},\n",
       "      {'name': 'Draw', 'price': 3.98}]}]},\n",
       "  {'key': 'sport888',\n",
       "   'title': '888sport',\n",
       "   'last_update': '2023-01-02T20:46:30Z',\n",
       "   'markets': [{'key': 'h2h',\n",
       "     'last_update': '2023-01-02T20:46:30Z',\n",
       "     'outcomes': [{'name': 'Arsenal', 'price': 1.8},\n",
       "      {'name': 'Newcastle United', 'price': 4.4},\n",
       "      {'name': 'Draw', 'price': 3.75}]}]},\n",
       "  {'key': 'betfair',\n",
       "   'title': 'Betfair',\n",
       "   'last_update': '2023-01-02T20:49:30Z',\n",
       "   'markets': [{'key': 'h2h',\n",
       "     'last_update': '2023-01-02T20:49:30Z',\n",
       "     'outcomes': [{'name': 'Arsenal', 'price': 1.84},\n",
       "      {'name': 'Newcastle United', 'price': 4.8},\n",
       "      {'name': 'Draw', 'price': 4.0}]},\n",
       "    {'key': 'h2h_lay',\n",
       "     'last_update': '2023-01-02T20:49:30Z',\n",
       "     'outcomes': [{'name': 'Arsenal', 'price': 1.85},\n",
       "      {'name': 'Newcastle United', 'price': 4.9},\n",
       "      {'name': 'Draw', 'price': 4.1}]}]},\n",
       "  {'key': 'pinnacle',\n",
       "   'title': 'Pinnacle',\n",
       "   'last_update': '2023-01-02T20:50:10Z',\n",
       "   'markets': [{'key': 'h2h',\n",
       "     'last_update': '2023-01-02T20:50:10Z',\n",
       "     'outcomes': [{'name': 'Arsenal', 'price': 1.81},\n",
       "      {'name': 'Newcastle United', 'price': 4.62},\n",
       "      {'name': 'Draw', 'price': 3.95}]}]},\n",
       "  {'key': 'marathonbet',\n",
       "   'title': 'Marathon Bet',\n",
       "   'last_update': '2023-01-02T20:50:10Z',\n",
       "   'markets': [{'key': 'h2h',\n",
       "     'last_update': '2023-01-02T20:50:10Z',\n",
       "     'outcomes': [{'name': 'Arsenal', 'price': 1.82},\n",
       "      {'name': 'Newcastle United', 'price': 4.85},\n",
       "      {'name': 'Draw', 'price': 4.05}]}]},\n",
       "  {'key': 'betsson',\n",
       "   'title': 'Betsson',\n",
       "   'last_update': '2023-01-02T20:46:31Z',\n",
       "   'markets': [{'key': 'h2h',\n",
       "     'last_update': '2023-01-02T20:46:31Z',\n",
       "     'outcomes': [{'name': 'Arsenal', 'price': 1.8},\n",
       "      {'name': 'Newcastle United', 'price': 4.6},\n",
       "      {'name': 'Draw', 'price': 3.85}]}]},\n",
       "  {'key': 'unibet_eu',\n",
       "   'title': 'Unibet',\n",
       "   'last_update': '2023-01-02T20:46:32Z',\n",
       "   'markets': [{'key': 'h2h',\n",
       "     'last_update': '2023-01-02T20:46:32Z',\n",
       "     'outcomes': [{'name': 'Arsenal', 'price': 1.8},\n",
       "      {'name': 'Newcastle United', 'price': 4.7},\n",
       "      {'name': 'Draw', 'price': 4.0}]}]},\n",
       "  {'key': 'williamhill',\n",
       "   'title': 'William Hill',\n",
       "   'last_update': '2023-01-02T20:46:29Z',\n",
       "   'markets': [{'key': 'h2h',\n",
       "     'last_update': '2023-01-02T20:46:29Z',\n",
       "     'outcomes': [{'name': 'Arsenal', 'price': 1.75},\n",
       "      {'name': 'Newcastle United', 'price': 4.6},\n",
       "      {'name': 'Draw', 'price': 3.7}]}]},\n",
       "  {'key': 'matchbook',\n",
       "   'title': 'Matchbook',\n",
       "   'last_update': '2023-01-02T20:46:30Z',\n",
       "   'markets': [{'key': 'h2h',\n",
       "     'last_update': '2023-01-02T20:46:30Z',\n",
       "     'outcomes': [{'name': 'Arsenal', 'price': 1.84},\n",
       "      {'name': 'Newcastle United', 'price': 4.7},\n",
       "      {'name': 'Draw', 'price': 4.0}]},\n",
       "    {'key': 'h2h_lay',\n",
       "     'last_update': '2023-01-02T20:46:30Z',\n",
       "     'outcomes': [{'name': 'Arsenal', 'price': 1.85},\n",
       "      {'name': 'Newcastle United', 'price': 4.9},\n",
       "      {'name': 'Draw', 'price': 4.1}]}]},\n",
       "  {'key': 'betonlineag',\n",
       "   'title': 'BetOnline.ag',\n",
       "   'last_update': '2023-01-02T20:50:28Z',\n",
       "   'markets': [{'key': 'h2h',\n",
       "     'last_update': '2023-01-02T20:50:28Z',\n",
       "     'outcomes': [{'name': 'Arsenal', 'price': 1.8},\n",
       "      {'name': 'Newcastle United', 'price': 4.5},\n",
       "      {'name': 'Draw', 'price': 3.9}]}]}]}"
      ]
     },
     "execution_count": 58,
     "metadata": {},
     "output_type": "execute_result"
    }
   ],
   "source": [
    "#amount of games avaliable\n",
    "data_json_sport[0]"
   ]
  },
  {
   "cell_type": "code",
   "execution_count": 59,
   "metadata": {},
   "outputs": [
    {
     "name": "stdout",
     "output_type": "stream",
     "text": [
      "Arsenal vs Newcastle United, start time: 2023-01-03T19:45:00Z\n",
      "Everton vs Brighton and Hove Albion, start time: 2023-01-03T19:45:00Z\n",
      "Leicester City vs Fulham, start time: 2023-01-03T19:45:00Z\n",
      "Manchester United vs Bournemouth, start time: 2023-01-03T20:00:00Z\n",
      "Southampton vs Nottingham Forest, start time: 2023-01-04T19:30:00Z\n",
      "Leeds United vs West Ham United, start time: 2023-01-04T19:45:00Z\n",
      "Aston Villa vs Wolverhampton Wanderers, start time: 2023-01-04T20:00:00Z\n",
      "Crystal Palace vs Tottenham Hotspur, start time: 2023-01-04T20:00:00Z\n",
      "Chelsea vs Manchester City, start time: 2023-01-05T20:00:00Z\n",
      "Fulham vs Chelsea, start time: 2023-01-12T20:00:00Z\n",
      "Aston Villa vs Leeds United, start time: 2023-01-13T20:00:00Z\n",
      "Manchester United vs Manchester City, start time: 2023-01-14T12:30:00Z\n",
      "Brighton and Hove Albion vs Liverpool, start time: 2023-01-14T15:00:00Z\n",
      "Everton vs Southampton, start time: 2023-01-14T15:00:00Z\n",
      "Nottingham Forest vs Leicester City, start time: 2023-01-14T15:00:00Z\n",
      "Wolverhampton Wanderers vs West Ham United, start time: 2023-01-14T15:00:00Z\n",
      "Brentford vs Bournemouth, start time: 2023-01-14T17:30:00Z\n",
      "Chelsea vs Crystal Palace, start time: 2023-01-15T14:00:00Z\n",
      "Newcastle United vs Fulham, start time: 2023-01-15T14:00:00Z\n",
      "Tottenham Hotspur vs Arsenal, start time: 2023-01-15T16:30:00Z\n"
     ]
    }
   ],
   "source": [
    "for game in data_json_sport:\n",
    "    print(game['home_team'] + \" vs \" + game['away_team'] + \", start time: \" + game['commence_time'])\n",
    "#data_json_sport[0]['home_team']"
   ]
  },
  {
   "cell_type": "code",
   "execution_count": null,
   "metadata": {},
   "outputs": [],
   "source": []
  }
 ],
 "metadata": {
  "kernelspec": {
   "display_name": "Python 3",
   "language": "python",
   "name": "python3"
  },
  "language_info": {
   "codemirror_mode": {
    "name": "ipython",
    "version": 3
   },
   "file_extension": ".py",
   "mimetype": "text/x-python",
   "name": "python",
   "nbconvert_exporter": "python",
   "pygments_lexer": "ipython3",
   "version": "3.10.9"
  },
  "orig_nbformat": 4,
  "vscode": {
   "interpreter": {
    "hash": "cf1a2d9465a9e1b66fb459bf22a3ff43b0bc772c7cc37da29e7a9fcad7fcf9c2"
   }
  }
 },
 "nbformat": 4,
 "nbformat_minor": 2
}
